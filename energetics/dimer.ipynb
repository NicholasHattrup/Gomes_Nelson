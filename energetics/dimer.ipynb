{
 "cells": [
  {
   "cell_type": "code",
   "execution_count": 27,
   "metadata": {},
   "outputs": [],
   "source": [
    "import autode as ade\n",
    "from argparse import ArgumentParser\n",
    "ade.Config.n_cores = 8\n",
    "xtb_keywords = {'opt': True, 'gfn': 'xTB', 'iter': 500}\n",
    "\n",
    "\n",
    "\n",
    "mol_one = '6_triflate.xyz'\n",
    "charge_one = 0\n",
    "spin_one = 0\n",
    "mol_two = 'carborane.xyz'\n",
    "charge_two = -1\n",
    "spin_two =  1\n",
    "\n",
    "\n",
    "system_charge=charge_one+charge_two\n",
    "system_spin = 0"
   ]
  },
  {
   "cell_type": "code",
   "execution_count": 28,
   "metadata": {},
   "outputs": [
    {
     "ename": "TypeError",
     "evalue": "Species.find_lowest_energy_conformer() got an unexpected keyword argument 'keywords'",
     "output_type": "error",
     "traceback": [
      "\u001b[0;31m---------------------------------------------------------------------------\u001b[0m",
      "\u001b[0;31mTypeError\u001b[0m                                 Traceback (most recent call last)",
      "\u001b[1;32m/Users/nickhattrup/Documents/research/Gomes_Nelson/energetics/dimer.ipynb Cell 2\u001b[0m in \u001b[0;36m<cell line: 6>\u001b[0;34m()\u001b[0m\n\u001b[1;32m      <a href='vscode-notebook-cell:/Users/nickhattrup/Documents/research/Gomes_Nelson/energetics/dimer.ipynb#W1sZmlsZQ%3D%3D?line=3'>4</a>\u001b[0m dimer\u001b[39m.\u001b[39mmult\u001b[39m=\u001b[39m\u001b[39m2\u001b[39m\u001b[39m*\u001b[39msystem_spin\u001b[39m+\u001b[39m\u001b[39m1\u001b[39m \u001b[39m# Reset the multiplicity of the complex \u001b[39;00m\n\u001b[1;32m      <a href='vscode-notebook-cell:/Users/nickhattrup/Documents/research/Gomes_Nelson/energetics/dimer.ipynb#W1sZmlsZQ%3D%3D?line=4'>5</a>\u001b[0m dimer\u001b[39m.\u001b[39mcharge\u001b[39m=\u001b[39msystem_charge\n\u001b[0;32m----> <a href='vscode-notebook-cell:/Users/nickhattrup/Documents/research/Gomes_Nelson/energetics/dimer.ipynb#W1sZmlsZQ%3D%3D?line=5'>6</a>\u001b[0m dimer\u001b[39m.\u001b[39;49mfind_lowest_energy_conformer(allow_connectivity_changes\u001b[39m=\u001b[39;49m\u001b[39mFalse\u001b[39;49;00m,keywords\u001b[39m=\u001b[39;49mxtb_keywords)\n",
      "File \u001b[0;32m~/miniconda3/envs/comp_chem/lib/python3.10/site-packages/autode/utils.py:154\u001b[0m, in \u001b[0;36mwork_in.<locals>.func_decorator.<locals>.wrapped_function\u001b[0;34m(*args, **kwargs)\u001b[0m\n\u001b[1;32m    152\u001b[0m os\u001b[39m.\u001b[39mchdir(dir_path)\n\u001b[1;32m    153\u001b[0m \u001b[39mtry\u001b[39;00m:\n\u001b[0;32m--> 154\u001b[0m     result \u001b[39m=\u001b[39m func(\u001b[39m*\u001b[39;49margs, \u001b[39m*\u001b[39;49m\u001b[39m*\u001b[39;49mkwargs)\n\u001b[1;32m    155\u001b[0m \u001b[39mfinally\u001b[39;00m:\n\u001b[1;32m    156\u001b[0m     os\u001b[39m.\u001b[39mchdir(here)\n",
      "\u001b[0;31mTypeError\u001b[0m: Species.find_lowest_energy_conformer() got an unexpected keyword argument 'keywords'"
     ]
    }
   ],
   "source": [
    "molecule_one=ade.Molecule(mol_one,c=charge_one,mult=2*spin_one+1)\n",
    "molecule_two=ade.Molecule(mol_two,c=charge_two,mult=2*spin_two+1)\n",
    "dimer=ade.NCIComplex(molecule_one,molecule_two)\n",
    "dimer.mult=2*system_spin+1 # Reset the multiplicity of the complex \n",
    "dimer.charge=system_charge\n",
    "dimer.find_lowest_energy_conformer(allow_connectivity_changes=False,lmethod=ade.methods.XTB())"
   ]
  }
 ],
 "metadata": {
  "kernelspec": {
   "display_name": "comp_chem",
   "language": "python",
   "name": "python3"
  },
  "language_info": {
   "codemirror_mode": {
    "name": "ipython",
    "version": 3
   },
   "file_extension": ".py",
   "mimetype": "text/x-python",
   "name": "python",
   "nbconvert_exporter": "python",
   "pygments_lexer": "ipython3",
   "version": "3.10.9"
  },
  "orig_nbformat": 4,
  "vscode": {
   "interpreter": {
    "hash": "a223b525ac3a3970bb8ce225f689d0d0190b31774a2be43caa5e15f35c357ce3"
   }
  }
 },
 "nbformat": 4,
 "nbformat_minor": 2
}
